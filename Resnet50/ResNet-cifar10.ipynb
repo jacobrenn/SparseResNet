{
  "cells": [
    {
      "cell_type": "code",
      "source": [
        "import tensorflow as tf\n",
        "from beyondml import tflow\n",
        "\n",
        "from sklearn.metrics import classification_report, confusion_matrix\n",
        "\n",
        "def print_results(truth, preds):\n",
        "    print(confusion_matrix(truth, preds))\n",
        "    print(classification_report(truth, preds))\n",
        "    print('\\n\\n')"
      ],
      "outputs": [],
      "execution_count": 3,
      "metadata": {
        "gather": {
          "logged": 1668003099825
        }
      }
    },
    {
      "cell_type": "code",
      "source": [
        "(x_train, y_train), (x_test, y_test) = tf.keras.datasets.cifar10.load_data()\n",
        "x_train = tf.keras.applications.resnet50.preprocess_input(x_train)\n",
        "x_test = tf.keras.applications.resnet50.preprocess_input(x_test)"
      ],
      "outputs": [],
      "execution_count": 4,
      "metadata": {
        "jupyter": {
          "source_hidden": false,
          "outputs_hidden": false
        },
        "nteract": {
          "transient": {
            "deleting": false
          }
        },
        "gather": {
          "logged": 1668003104171
        }
      }
    },
    {
      "cell_type": "code",
      "source": [
        "input_layer = tf.keras.layers.Input(x_train.shape[1:])\n",
        "x = tf.keras.layers.UpSampling2D((2, 2))(input_layer)\n",
        "x = tf.keras.layers.UpSampling2D((2, 2))(x)\n",
        "x = tf.keras.layers.UpSampling2D((2, 2))(x)\n",
        "x = tf.keras.applications.ResNet50(include_top = False)(x)\n",
        "x = tf.keras.layers.Flatten()(x)\n",
        "x = tf.keras.layers.BatchNormalization()(x)\n",
        "x = tflow.layers.MultiMaskedDense(128, activation = 'relu')([x, x, x,])\n",
        "x1 = tflow.layers.SelectorLayer(0)(x)\n",
        "x2 = tflow.layers.SelectorLayer(1)(x)\n",
        "x3 = tflow.layers.SelectorLayer(2)(x)\n",
        "x1 = tf.keras.layers.Dropout(0.5)(x1)\n",
        "x2 = tf.keras.layers.Dropout(0.5)(x2)\n",
        "x3 = tf.keras.layers.Dropout(0.5)(x3)\n",
        "x1 = tf.keras.layers.BatchNormalization()(x1)\n",
        "x2 = tf.keras.layers.BatchNormalization()(x2)\n",
        "x3 = tf.keras.layers.BatchNormalization()(x3)\n",
        "x = tflow.layers.MultiMaskedDense(64, activation = 'relu')([x1, x2, x3])\n",
        "x1 = tflow.layers.SelectorLayer(0)(x)\n",
        "x2 = tflow.layers.SelectorLayer(1)(x)\n",
        "x3 = tflow.layers.SelectorLayer(2)(x)\n",
        "x1 = tf.keras.layers.Dropout(0.5)(x1)\n",
        "x2 = tf.keras.layers.Dropout(0.5)(x2)\n",
        "x3 = tf.keras.layers.Dropout(0.5)(x3)\n",
        "x1 = tf.keras.layers.BatchNormalization()(x1)\n",
        "x2 = tf.keras.layers.BatchNormalization()(x2)\n",
        "x3 = tf.keras.layers.BatchNormalization()(x3)\n",
        "output_layer = tflow.layers.MultiMaskedDense(10, activation = 'softmax')([x1, x2, x3])\n",
        "\n",
        "model = tf.keras.models.Model(input_layer, output_layer)\n",
        "model = tflow.utils.add_layer_masks(model)\n",
        "model.compile(loss = 'sparse_categorical_crossentropy', metrics = ['accuracy'], optimizer = tf.keras.optimizers.Adamax())"
      ],
      "outputs": [
        {
          "output_type": "stream",
          "name": "stderr",
          "text": "2022-11-09 14:11:44.188621: I tensorflow/core/platform/cpu_feature_guard.cc:193] This TensorFlow binary is optimized with oneAPI Deep Neural Network Library (oneDNN) to use the following CPU instructions in performance-critical operations:  AVX2 FMA\nTo enable them in other operations, rebuild TensorFlow with the appropriate compiler flags.\n2022-11-09 14:11:44.867106: I tensorflow/core/common_runtime/gpu/gpu_device.cc:1616] Created device /job:localhost/replica:0/task:0/device:GPU:0 with 11553 MB memory:  -> device: 0, name: Tesla K80, pci bus id: 0001:00:00.0, compute capability: 3.7\n"
        }
      ],
      "execution_count": 5,
      "metadata": {
        "jupyter": {
          "source_hidden": false,
          "outputs_hidden": false
        },
        "nteract": {
          "transient": {
            "deleting": false
          }
        },
        "gather": {
          "logged": 1668003113533
        }
      }
    },
    {
      "cell_type": "code",
      "source": [
        "model.fit(\n",
        "    x_train,\n",
        "    [y_train, y_train, y_train],\n",
        "    batch_size = 64,\n",
        "    epochs = 2,\n",
        "    validation_split = 0.2\n",
        ")"
      ],
      "outputs": [
        {
          "output_type": "stream",
          "name": "stdout",
          "text": "Epoch 1/2\n625/625 [==============================] - 1042s 2s/step - loss: 3.7810 - multi_masked_dense_5_loss: 1.2644 - multi_masked_dense_5_1_loss: 1.2641 - multi_masked_dense_5_2_loss: 1.2525 - multi_masked_dense_5_accuracy: 0.6160 - multi_masked_dense_5_1_accuracy: 0.6183 - multi_masked_dense_5_2_accuracy: 0.6237 - val_loss: 2.1011 - val_multi_masked_dense_5_loss: 0.7027 - val_multi_masked_dense_5_1_loss: 0.6891 - val_multi_masked_dense_5_2_loss: 0.7092 - val_multi_masked_dense_5_accuracy: 0.7956 - val_multi_masked_dense_5_1_accuracy: 0.7959 - val_multi_masked_dense_5_2_accuracy: 0.7916\b\b\b\b\b\b\b\b\b\b\b\b\b\b\b\b\b\b\b\b\b\b\b\b\b\b\nEpoch 2/2\n625/625 [==============================] - 1026s 2s/step - loss: 1.8260 - multi_masked_dense_5_loss: 0.6083 - multi_masked_dense_5_1_loss: 0.6067 - multi_masked_dense_5_2_loss: 0.6111 - multi_masked_dense_5_accuracy: 0.8306 - multi_masked_dense_5_1_accuracy: 0.8334 - multi_masked_dense_5_2_accuracy: 0.8333 - val_loss: 1.8244 - val_multi_masked_dense_5_loss: 0.6070 - val_multi_masked_dense_5_1_loss: 0.6190 - val_multi_masked_dense_5_2_loss: 0.5985 - val_multi_masked_dense_5_accuracy: 0.8154 - val_multi_masked_dense_5_1_accuracy: 0.8084 - val_multi_masked_dense_5_2_accuracy: 0.8141\b\b\b\b\b\b\b\b\b\b\b\b\b\b\b\b\b\b\b\b\b\b\n"
        },
        {
          "output_type": "stream",
          "name": "stderr",
          "text": "2022-11-09 14:12:04.031762: I tensorflow/stream_executor/cuda/cuda_dnn.cc:384] Loaded cuDNN version 8201\n2022-11-09 14:12:04.358186: I tensorflow/core/platform/default/subprocess.cc:304] Start cannot spawn child process: No such file or directory\n2022-11-09 14:12:06.959452: W tensorflow/core/common_runtime/bfc_allocator.cc:290] Allocator (GPU_0_bfc) ran out of memory trying to allocate 2.55GiB with freed_by_count=0. The caller indicates that this is not a failure, but this may mean that there could be performance gains if more memory were available.\n"
        },
        {
          "output_type": "execute_result",
          "execution_count": 6,
          "data": {
            "text/plain": "<keras.callbacks.History at 0x7f4c86ea7310>"
          },
          "metadata": {}
        }
      ],
      "execution_count": 6,
      "metadata": {
        "jupyter": {
          "source_hidden": false,
          "outputs_hidden": false
        },
        "nteract": {
          "transient": {
            "deleting": false
          }
        },
        "gather": {
          "logged": 1668005182479
        }
      }
    },
    {
      "cell_type": "code",
      "source": [
        "model = tflow.utils.mask_model(model, 70, method = 'magnitude')\n",
        "model.compile(loss = 'sparse_categorical_crossentropy', metrics = ['accuracy'], optimizer = tf.keras.optimizers.Adamax())\n",
        "\n",
        "callbacks = [\n",
        "    tf.keras.callbacks.EarlyStopping(min_delta = 0.001, patience = 5, restore_best_weights = True),\n",
        "    tf.keras.callbacks.ReduceLROnPlateau(min_lr = 1e-8, patience = 3)\n",
        "]\n",
        "model.fit(\n",
        "    x_train,\n",
        "    [y_train, y_train, y_train],\n",
        "    batch_size = 64,\n",
        "    epochs = 100,\n",
        "    validation_split = 0.2,\n",
        "    callbacks = callbacks\n",
        ")\n",
        "\n",
        "model = tflow.utils.remove_layer_masks(model)\n",
        "\n",
        "preds = model.predict(x_test)\n",
        "\n",
        "print_results(y_test, preds[0].argmax(axis = 1))\n",
        "print_results(y_test, preds[1].argmax(axis = 1))\n",
        "print_results(y_test, preds[2].argmax(axis = 1))\n",
        "print_results(y_test, sum(preds).argmax(axis = 1))\n",
        "\n",
        "model.save('sparse_resnet.h5')"
      ],
      "outputs": [
        {
          "output_type": "stream",
          "name": "stdout",
          "text": "Epoch 1/100\n625/625 [==============================] - 1037s 2s/step - loss: 2.0995 - multi_masked_dense_5_loss: 0.5153 - multi_masked_dense_5_1_loss: 0.7222 - multi_masked_dense_5_2_loss: 0.8620 - multi_masked_dense_5_accuracy: 0.8802 - multi_masked_dense_5_1_accuracy: 0.8274 - multi_masked_dense_5_2_accuracy: 0.7929 - val_loss: 1.0113 - val_multi_masked_dense_5_loss: 0.2916 - val_multi_masked_dense_5_1_loss: 0.3346 - val_multi_masked_dense_5_2_loss: 0.3851 - val_multi_masked_dense_5_accuracy: 0.9150 - val_multi_masked_dense_5_1_accuracy: 0.9135 - val_multi_masked_dense_5_2_accuracy: 0.9146\b\b\b\b\b\b\b\b\b\b\b\b\b\b\b\b\b\b\b\b\b\b\b\b\b\b\nEpoch 2/100\n625/625 [==============================] - 1019s 2s/step - loss: 1.2591 - multi_masked_dense_5_loss: 0.3029 - multi_masked_dense_5_1_loss: 0.4264 - multi_masked_dense_5_2_loss: 0.5298 - multi_masked_dense_5_accuracy: 0.9309 - multi_masked_dense_5_1_accuracy: 0.8980 - multi_masked_dense_5_2_accuracy: 0.8687 - val_loss: 0.7536 - val_multi_masked_dense_5_loss: 0.2348 - val_multi_masked_dense_5_1_loss: 0.2436 - val_multi_masked_dense_5_2_loss: 0.2752 - val_multi_masked_dense_5_accuracy: 0.9303 - val_multi_masked_dense_5_1_accuracy: 0.9289 - val_multi_masked_dense_5_2_accuracy: 0.9258\b\b\b\b\b\b\b\b\b\b\b\b\b\b\b\b\b\b\b\b\b\b\nEpoch 3/100\n225/625 [=========>....................] - ETA: 10:01 - loss: 0.9611 - multi_masked_dense_5_loss: 0.2165 - multi_masked_dense_5_1_loss: 0.3220 - multi_masked_dense_5_2_loss: 0.4227 - multi_masked_dense_5_accuracy: 0.9540 - multi_masked_dense_5_1_accuracy: 0.9269 - multi_masked_dense_5_2_accuracy: 0.8972\b\b\b\b\b\b\b\b\b\b\b\b\b\b\b\b\b\b\b\b\b\b\b\b\b\b\b\b\b\b\b\b\b\b\b\b\b\b\b\b\b\b\b\b\b\b\b\b\b\b\b\b\b\b\b\b\b\b\b\b\b\b\b\b\b\b\b\b\b\b\b\b\b\b\b\b\b\b\b\b\b\b\b\b\b\b\b\b\b\b\b\b\b\b\b\b\b\b\b\b\b\b\b\b\b\b\b\b\b\b\b\b\b\b\b\b\b\b\b\b\b\b\b\b\b\b\b\b\b\b\b\b\b\b\b\b\b\b\b\b\b\b\b\b\b\b\b\b\b\b\b\b\b\b\b\b\b\b\b\b\b\b\b\b\b\b\b\b\b\b\b\b\b\b\b\b\b\b\b\b\b\b\b\b\b\b\b\b\b\b\b\b\b\b\b\b\b\b\b\b\b\b\b\b\b\b\b\b\b\b\b\b\b\b\b\b\b\b\b\b\b\b\b\b\b\b\b\b\b\b\b\b\b\b\b\b\b\b\b\b\b\b\b\b\b\b\b\b\b\b\b\b\b\b\b\b\b\b\b\b\b\b\b\b\b\b\b\b\b\b\b\b\b\b\b\b\b\b\b\b\b\b\b\b\b\b\b\b\b\b\b\b\b\b\b\b\b\b\b\b\b\b\b\b\r226/625 [=========>....................] - ETA: 9:59 - loss: 0.9601 - multi_masked_dense_5_loss: 0.2161 - multi_masked_dense_5_1_loss: 0.3216 - multi_masked_dense_5_2_loss: 0.4225 - multi_masked_dense_5_accuracy: 0.9540 - multi_masked_dense_5_1_accuracy: 0.9270 - multi_masked_dense_5_2_accuracy: 0.8973 \b\b\b\b\b\b\b\b\b\b\b\b\b\b\b\b\b\b\b\b\b\b\b\b\b\b\b\b\b\b\b\b\b\b\b\b\b\b\b\b\b\b\b\b\b\b\b\b\b\b\b\b\b\b\b\b\b\b\b\b\b\b\b\b\b\b\b\b\b\b\b\b\b\b\b\b\b\b\b\b\b\b\b\b\b\b\b\b\b\b\b\b\b\b\b\b\b\b\b\b\b\b\b\b\b\b\b\b\b\b\b\b\b\b\b\b\b\b\b\b\b\b\b\b\b\b\b\b\b\b\b\b\b\b\b\b\b\b\b\b\b\b\b\b\b\b\b\b\b\b\b\b\b\b\b\b\b\b\b\b\b\b\b\b\b\b\b\b\b\b\b\b\b\b\b\b\b\b\b\b\b\b\b\b\b\b\b\b\b\b\b\b\b\b\b\b\b\b\b\b\b\b\b\b\b\b\b\b\b\b\b\b\b\b\b\b\b\b\b\b\b\b\b\b\b\b\b\b\b\b\b\b\b\b\b\b\b\b\b\b\b\b\b\b\b\b\b\b\b\b\b\b\b\b\b\b\b\b\b\b\b\b\b\b\b\b\b\b\b\b\b\b\b\b\b\b\b\b\b\b\b\b\b\b\b\b\b\b\b\b\b\b\b\b\b\b\b\b\b\b\b\b\b\r275/625 [============>.................] - ETA: 8:46 - loss: 0.9552 - multi_masked_dense_5_loss: 0.2164 - multi_masked_dense_5_1_loss: 0.3195 - multi_masked_dense_5_2_loss: 0.4193 - multi_masked_dense_5_accuracy: 0.9539 - multi_masked_dense_5_1_accuracy: 0.9276 - multi_masked_dense_5_2_accuracy: 0.8988\b\b\b\b\b\b\b\b\b\b\b\b\b\b\b\b\b\b\b\b\b\b\b\b\b\b\b\b\b\b\b\b\b\b\b\b\b\b\b\b\b\b\b\b\b\b\b\b\b\b\b\b\b\b\b\b\b\b\b\b\b\b\b\b\b\b\b\b\b\b\b\b\b\b\b\b\b\b\b\b\b\b\b\b\b\b\b\b\b\b\b\b\b\b\b\b\b\b\b\b\b\b\b\b\b\b\b\b\b\b\b\b\b\b\b\b\b\b\b\b\b\b\b\b\b\b\b\b\b\b\b\b\b\b\b\b\b\b\b\b\b\b\b\b\b\b\b\b\b\b\b\b\b\b\b\b\b\b\b\b\b\b\b\b\b\b\b\b\b\b\b\b\b\b\b\b\b\b\b\b\b\b\b\b\b\b\b\b\b\b\b\b\b\b\b\b\b\b\b\b\b\b\b\b\b\b\b\b\b\b\b\b\b\b\b\b\b\b\b\b\b\b\b\b\b\b\b\b\b\b\b\b\b\b\b\b\b\b\b\b\b\b\b\b\b\b\b\b\b\b\b\b\b\b\b\b\b\b\b\b\b\b\b\b\b\b\b\b\b\b\b\b\b\b\b\b\b\b\b\b\b\b\b\b\b\b\b\b\b\b\b\b\b\b\b\b\b\b\b\b\b\b\b\r276/625 [============>.................] - ETA: 8:44 - loss: 0.9544 - multi_masked_dense_5_loss: 0.2163 - multi_masked_dense_5_1_loss: 0.3190 - multi_masked_dense_5_2_loss: 0.4190 - multi_masked_dense_5_accuracy: 0.9539 - multi_masked_dense_5_1_accuracy: 0.9277 - multi_masked_dense_5_2_accuracy: 0.8989"
        }
      ],
      "execution_count": 7,
      "metadata": {
        "jupyter": {
          "source_hidden": false,
          "outputs_hidden": false
        },
        "nteract": {
          "transient": {
            "deleting": false
          }
        }
      }
    }
  ],
  "metadata": {
    "kernelspec": {
      "name": "python38-azureml",
      "language": "python",
      "display_name": "Python 3.8 - AzureML"
    },
    "language_info": {
      "name": "python",
      "version": "3.8.13",
      "mimetype": "text/x-python",
      "codemirror_mode": {
        "name": "ipython",
        "version": 3
      },
      "pygments_lexer": "ipython3",
      "nbconvert_exporter": "python",
      "file_extension": ".py"
    },
    "kernel_info": {
      "name": "python38-azureml"
    },
    "nteract": {
      "version": "nteract-front-end@1.0.0"
    },
    "microsoft": {
      "host": {
        "AzureML": {
          "notebookHasBeenCompleted": true
        }
      }
    }
  },
  "nbformat": 4,
  "nbformat_minor": 2
}