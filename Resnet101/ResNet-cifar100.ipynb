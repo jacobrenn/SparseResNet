{
  "cells": [
    {
      "cell_type": "code",
      "execution_count": null,
      "metadata": {},
      "outputs": [],
      "source": [
        "import tensorflow as tf\n",
        "from beyondml import tflow\n",
        "\n",
        "from sklearn.metrics import classification_report, confusion_matrix\n",
        "\n",
        "def print_results(truth, preds):\n",
        "    print(confusion_matrix(truth, preds))\n",
        "    print(classification_report(truth, preds))\n",
        "    print('\\n\\n')"
      ]
    },
    {
      "cell_type": "code",
      "execution_count": null,
      "metadata": {
        "jupyter": {
          "outputs_hidden": false,
          "source_hidden": false
        },
        "nteract": {
          "transient": {
            "deleting": false
          }
        }
      },
      "outputs": [],
      "source": [
        "(x_train, y_train), (x_test, y_test) = tf.keras.datasets.cifar100.load_data()\n",
        "x_train = tf.keras.applications.resnet.preprocess_input(x_train)\n",
        "x_test = tf.keras.applications.resnet.preprocess_input(x_test)"
      ]
    },
    {
      "cell_type": "code",
      "execution_count": null,
      "metadata": {
        "jupyter": {
          "outputs_hidden": false,
          "source_hidden": false
        },
        "nteract": {
          "transient": {
            "deleting": false
          }
        }
      },
      "outputs": [],
      "source": [
        "strategy = tf.distribute.MirroredStrategy()\n",
        "\n",
        "with strategy.scope():\n",
        "\n",
        "    input_layer = tf.keras.layers.Input(x_train.shape[1:])\n",
        "    x = tf.keras.layers.UpSampling2D((2, 2))(input_layer)\n",
        "    x = tf.keras.layers.UpSampling2D((2, 2))(x)\n",
        "    x = tf.keras.layers.UpSampling2D((2, 2))(x)\n",
        "    x = tf.keras.applications.ResNet101(include_top = False)(x)\n",
        "    x = tf.keras.layers.Flatten()(x)\n",
        "    x = tf.keras.layers.BatchNormalization()(x)\n",
        "    x = tflow.layers.MultiMaskedDense(128, activation = 'relu')([x, x, x,])\n",
        "    x1 = tflow.layers.SelectorLayer(0)(x)\n",
        "    x2 = tflow.layers.SelectorLayer(1)(x)\n",
        "    x3 = tflow.layers.SelectorLayer(2)(x)\n",
        "    x1 = tf.keras.layers.Dropout(0.5)(x1)\n",
        "    x2 = tf.keras.layers.Dropout(0.5)(x2)\n",
        "    x3 = tf.keras.layers.Dropout(0.5)(x3)\n",
        "    x1 = tf.keras.layers.BatchNormalization()(x1)\n",
        "    x2 = tf.keras.layers.BatchNormalization()(x2)\n",
        "    x3 = tf.keras.layers.BatchNormalization()(x3)\n",
        "    x = tflow.layers.MultiMaskedDense(64, activation = 'relu')([x1, x2, x3])\n",
        "    x1 = tflow.layers.SelectorLayer(0)(x)\n",
        "    x2 = tflow.layers.SelectorLayer(1)(x)\n",
        "    x3 = tflow.layers.SelectorLayer(2)(x)\n",
        "    x1 = tf.keras.layers.Dropout(0.5)(x1)\n",
        "    x2 = tf.keras.layers.Dropout(0.5)(x2)\n",
        "    x3 = tf.keras.layers.Dropout(0.5)(x3)\n",
        "    x1 = tf.keras.layers.BatchNormalization()(x1)\n",
        "    x2 = tf.keras.layers.BatchNormalization()(x2)\n",
        "    x3 = tf.keras.layers.BatchNormalization()(x3)\n",
        "    output_layer = tflow.layers.MultiMaskedDense(100, activation = 'softmax')([x1, x2, x3])\n",
        "\n",
        "    model = tf.keras.models.Model(input_layer, output_layer)\n",
        "    model = tflow.utils.add_layer_masks(model)\n",
        "    model.compile(loss = 'sparse_categorical_crossentropy', metrics = ['accuracy'], optimizer = tf.keras.optimizers.Adamax())"
      ]
    },
    {
      "cell_type": "code",
      "execution_count": null,
      "metadata": {
        "jupyter": {
          "outputs_hidden": false,
          "source_hidden": false
        },
        "nteract": {
          "transient": {
            "deleting": false
          }
        }
      },
      "outputs": [],
      "source": [
        "model.fit(\n",
        "    x_train,\n",
        "    [y_train, y_train, y_train],\n",
        "    batch_size = 64,\n",
        "    epochs = 10,\n",
        "    validation_split = 0.2,\n",
        "    verbose = 0\n",
        ")"
      ]
    },
    {
      "cell_type": "code",
      "execution_count": null,
      "metadata": {
        "jupyter": {
          "outputs_hidden": false,
          "source_hidden": false
        },
        "nteract": {
          "transient": {
            "deleting": false
          }
        }
      },
      "outputs": [],
      "source": [
        "model = tflow.utils.mask_model(model, 70, method = 'magnitude')\n",
        "model.compile(loss = 'sparse_categorical_crossentropy', metrics = ['accuracy'], optimizer = tf.keras.optimizers.Adamax())\n",
        "\n",
        "callbacks = [\n",
        "    tf.keras.callbacks.EarlyStopping(min_delta = 0.001, patience = 5, restore_best_weights = True),\n",
        "    tf.keras.callbacks.ReduceLROnPlateau(min_lr = 1e-8, patience = 3)\n",
        "]\n",
        "model.fit(\n",
        "    x_train,\n",
        "    [y_train, y_train, y_train],\n",
        "    batch_size = 64,\n",
        "    epochs = 100,\n",
        "    validation_split = 0.2,\n",
        "    callbacks = callbacks,\n",
        "    verbose = 2\n",
        ")\n",
        "\n",
        "model = tflow.utils.remove_layer_masks(model)\n",
        "\n",
        "preds = model.predict(x_test)\n",
        "\n",
        "print_results(y_test, preds[0].argmax(axis = 1))\n",
        "print_results(y_test, preds[1].argmax(axis = 1))\n",
        "print_results(y_test, preds[2].argmax(axis = 1))\n",
        "print_results(y_test, sum(preds).argmax(axis = 1))\n",
        "\n",
        "model.save('sparse_resnet_cifar100.h5')"
      ]
    }
  ],
  "metadata": {
    "kernel_info": {
      "name": "python38-azureml"
    },
    "kernelspec": {
      "display_name": "Python 3.8.10 64-bit",
      "language": "python",
      "name": "python3"
    },
    "language_info": {
      "codemirror_mode": {
        "name": "ipython",
        "version": 3
      },
      "file_extension": ".py",
      "mimetype": "text/x-python",
      "name": "python",
      "nbconvert_exporter": "python",
      "pygments_lexer": "ipython3",
      "version": "3.8.10"
    },
    "nteract": {
      "version": "nteract-front-end@1.0.0"
    },
    "vscode": {
      "interpreter": {
        "hash": "31f2aee4e71d21fbe5cf8b01ff0e069b9275f58929596ceb00d14d90e3e16cd6"
      }
    }
  },
  "nbformat": 4,
  "nbformat_minor": 2
}
