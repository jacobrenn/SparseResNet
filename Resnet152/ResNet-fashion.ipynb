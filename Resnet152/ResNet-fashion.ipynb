{
  "cells": [
    {
      "cell_type": "code",
      "execution_count": 13,
      "metadata": {
        "gather": {
          "logged": 1668082206241
        }
      },
      "outputs": [],
      "source": [
        "import numpy as np\n",
        "import tensorflow as tf\n",
        "from beyondml import tflow\n",
        "\n",
        "from sklearn.metrics import classification_report, confusion_matrix\n",
        "\n",
        "def print_results(truth, preds):\n",
        "    print(confusion_matrix(truth, preds))\n",
        "    print(classification_report(truth, preds))\n",
        "    print('\\n\\n')"
      ]
    },
    {
      "cell_type": "code",
      "execution_count": 18,
      "metadata": {
        "gather": {
          "logged": 1668082327206
        },
        "jupyter": {
          "outputs_hidden": false,
          "source_hidden": false
        },
        "nteract": {
          "transient": {
            "deleting": false
          }
        }
      },
      "outputs": [],
      "source": [
        "(x_train, y_train), (x_test, y_test) = tf.keras.datasets.fashion_mnist.load_data()\n",
        "x_train = x_train.reshape(-1, 28, 28, 1)\n",
        "x_train = np.concatenate([x_train, x_train, x_train], axis = -1)\n",
        "x_train = tf.keras.applications.resnet.preprocess_input(x_train)\n",
        "\n",
        "x_test = x_test.reshape(-1, 28, 28, 1)\n",
        "x_test = np.concatenate([x_test, x_test, x_test], axis = -1)\n",
        "x_test = tf.keras.applications.resnet.preprocess_input(x_test)"
      ]
    },
    {
      "cell_type": "code",
      "execution_count": null,
      "metadata": {
        "jupyter": {
          "outputs_hidden": false,
          "source_hidden": false
        },
        "nteract": {
          "transient": {
            "deleting": false
          }
        }
      },
      "outputs": [],
      "source": [
        "strategy = tf.distribute.MirroredStrategy()\n",
        "\n",
        "with strategy.scope():\n",
        "\n",
        "    input_layer = tf.keras.layers.Input(x_train.shape[1:])\n",
        "    x = tf.keras.layers.UpSampling2D((2, 2))(input_layer)\n",
        "    x = tf.keras.layers.UpSampling2D((2, 2))(x)\n",
        "    x = tf.keras.layers.UpSampling2D((2, 2))(x)\n",
        "    x = tf.keras.applications.ResNet152(include_top = False)(x)\n",
        "    x = tf.keras.layers.Flatten()(x)\n",
        "    x = tf.keras.layers.BatchNormalization()(x)\n",
        "    x = tflow.layers.MultiMaskedDense(384, activation = 'relu')([x, x, x,])\n",
        "    x1 = tflow.layers.SelectorLayer(0)(x)\n",
        "    x2 = tflow.layers.SelectorLayer(1)(x)\n",
        "    x3 = tflow.layers.SelectorLayer(2)(x)\n",
        "    x1 = tf.keras.layers.Dropout(0.5)(x1)\n",
        "    x2 = tf.keras.layers.Dropout(0.5)(x2)\n",
        "    x3 = tf.keras.layers.Dropout(0.5)(x3)\n",
        "    x1 = tf.keras.layers.BatchNormalization()(x1)\n",
        "    x2 = tf.keras.layers.BatchNormalization()(x2)\n",
        "    x3 = tf.keras.layers.BatchNormalization()(x3)\n",
        "    x = tflow.layers.MultiMaskedDense(192, activation = 'relu')([x1, x2, x3])\n",
        "    x1 = tflow.layers.SelectorLayer(0)(x)\n",
        "    x2 = tflow.layers.SelectorLayer(1)(x)\n",
        "    x3 = tflow.layers.SelectorLayer(2)(x)\n",
        "    x1 = tf.keras.layers.Dropout(0.5)(x1)\n",
        "    x2 = tf.keras.layers.Dropout(0.5)(x2)\n",
        "    x3 = tf.keras.layers.Dropout(0.5)(x3)\n",
        "    x1 = tf.keras.layers.BatchNormalization()(x1)\n",
        "    x2 = tf.keras.layers.BatchNormalization()(x2)\n",
        "    x3 = tf.keras.layers.BatchNormalization()(x3)\n",
        "    output_layer = tflow.layers.MultiMaskedDense(10, activation = 'softmax')([x1, x2, x3])\n",
        "\n",
        "    model = tf.keras.models.Model(input_layer, output_layer)\n",
        "    model = tflow.utils.add_layer_masks(model)\n",
        "    model.compile(loss = 'sparse_categorical_crossentropy', metrics = ['accuracy'], optimizer = tf.keras.optimizers.Adamax())"
      ]
    },
    {
      "cell_type": "code",
      "execution_count": null,
      "metadata": {
        "jupyter": {
          "outputs_hidden": false,
          "source_hidden": false
        },
        "nteract": {
          "transient": {
            "deleting": false
          }
        }
      },
      "outputs": [],
      "source": [
        "with strategy.scope():\n",
        "    model.fit(\n",
        "        x_train,\n",
        "        [y_train, y_train, y_train],\n",
        "        batch_size = 128,\n",
        "        epochs = 2,\n",
        "        validation_split = 0.2,\n",
        "        verbose = 0\n",
        "    )"
      ]
    },
    {
      "cell_type": "code",
      "execution_count": null,
      "metadata": {
        "jupyter": {
          "outputs_hidden": false,
          "source_hidden": false
        },
        "nteract": {
          "transient": {
            "deleting": false
          }
        }
      },
      "outputs": [],
      "source": [
        "with strategy.scope():\n",
        "    model = tflow.utils.mask_model(model, 70, method = 'magnitude')\n",
        "    model.compile(loss = 'sparse_categorical_crossentropy', metrics = ['accuracy'], optimizer = tf.keras.optimizers.Adamax())\n",
        "\n",
        "    callbacks = [\n",
        "        tf.keras.callbacks.EarlyStopping(min_delta = 0.001, patience = 5, restore_best_weights = True),\n",
        "        tf.keras.callbacks.ReduceLROnPlateau(min_lr = 1e-8, patience = 3)\n",
        "    ]\n",
        "    model.fit(\n",
        "        x_train,\n",
        "        [y_train, y_train, y_train],\n",
        "        batch_size = 128,\n",
        "        epochs = 100,\n",
        "        validation_split = 0.2,\n",
        "        callbacks = callbacks,\n",
        "        verbose = 0\n",
        "    )\n",
        "\n",
        "    model = tflow.utils.remove_layer_masks(model)\n",
        "\n",
        "    preds = model.predict(x_test)\n",
        "\n",
        "print_results(y_test, preds[0].argmax(axis = 1))\n",
        "print_results(y_test, preds[1].argmax(axis = 1))\n",
        "print_results(y_test, preds[2].argmax(axis = 1))\n",
        "print_results(y_test, sum(preds).argmax(axis = 1))\n",
        "\n",
        "model.save('sparse_resnet_fashion.h5')"
      ]
    }
  ],
  "metadata": {
    "kernel_info": {
      "name": "python38-azureml"
    },
    "kernelspec": {
      "display_name": "Python 3.10.6 ('base')",
      "language": "python",
      "name": "python3"
    },
    "language_info": {
      "codemirror_mode": {
        "name": "ipython",
        "version": 3
      },
      "file_extension": ".py",
      "mimetype": "text/x-python",
      "name": "python",
      "nbconvert_exporter": "python",
      "pygments_lexer": "ipython3",
      "version": "3.10.8"
    },
    "nteract": {
      "version": "nteract-front-end@1.0.0"
    },
    "vscode": {
      "interpreter": {
        "hash": "0671325c08d22fc44ce2e58aedbf8efae69ce5eb9c1911bbe321ecb24080d883"
      }
    }
  },
  "nbformat": 4,
  "nbformat_minor": 2
}
